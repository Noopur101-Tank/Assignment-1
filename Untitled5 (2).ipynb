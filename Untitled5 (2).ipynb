{
 "cells": [
  {
   "cell_type": "code",
   "execution_count": null,
   "id": "630b1555",
   "metadata": {},
   "outputs": [],
   "source": [
    "# fibonacci series between 0 to 50"
   ]
  },
  {
   "cell_type": "code",
   "execution_count": 3,
   "id": "28ee00d6",
   "metadata": {},
   "outputs": [
    {
     "name": "stdout",
     "output_type": "stream",
     "text": [
      "[1, 1, 2, 3, 5, 8, 13, 21, 34]\n"
     ]
    }
   ],
   "source": [
    "def fibonacci_series(num):\n",
    "    series=[]\n",
    "    a,b=0,1\n",
    "    \n",
    "    while b<=num:\n",
    "        series.append(b)\n",
    "        a,b=b,a+b\n",
    "    return series\n",
    "fibo_numbers=fibonacci_series(50)\n",
    "print(fibo_numbers)"
   ]
  }
 ],
 "metadata": {
  "kernelspec": {
   "display_name": "Python 3 (ipykernel)",
   "language": "python",
   "name": "python3"
  },
  "language_info": {
   "codemirror_mode": {
    "name": "ipython",
    "version": 3
   },
   "file_extension": ".py",
   "mimetype": "text/x-python",
   "name": "python",
   "nbconvert_exporter": "python",
   "pygments_lexer": "ipython3",
   "version": "3.10.9"
  }
 },
 "nbformat": 4,
 "nbformat_minor": 5
}

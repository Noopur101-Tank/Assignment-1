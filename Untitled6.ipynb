{
 "cells": [
  {
   "cell_type": "code",
   "execution_count": null,
   "id": "9235c261",
   "metadata": {},
   "outputs": [],
   "source": [
    "# Reverse of \"Programmer\""
   ]
  },
  {
   "cell_type": "code",
   "execution_count": 1,
   "id": "47dca4d3",
   "metadata": {},
   "outputs": [
    {
     "name": "stdout",
     "output_type": "stream",
     "text": [
      "remmargorP"
     ]
    }
   ],
   "source": [
    "input_list=\"Programmer\"\n",
    "for i in range (len(input_list)-1,-1,-1):\n",
    "    print(input_list[i],end=\"\")"
   ]
  }
 ],
 "metadata": {
  "kernelspec": {
   "display_name": "Python 3 (ipykernel)",
   "language": "python",
   "name": "python3"
  },
  "language_info": {
   "codemirror_mode": {
    "name": "ipython",
    "version": 3
   },
   "file_extension": ".py",
   "mimetype": "text/x-python",
   "name": "python",
   "nbconvert_exporter": "python",
   "pygments_lexer": "ipython3",
   "version": "3.10.9"
  }
 },
 "nbformat": 4,
 "nbformat_minor": 5
}

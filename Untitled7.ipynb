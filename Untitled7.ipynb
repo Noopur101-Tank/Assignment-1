{
 "cells": [
  {
   "cell_type": "code",
   "execution_count": null,
   "id": "68868926",
   "metadata": {},
   "outputs": [],
   "source": [
    "# Python program that counts odd & even number"
   ]
  },
  {
   "cell_type": "code",
   "execution_count": 3,
   "id": "074d0aef",
   "metadata": {},
   "outputs": [
    {
     "name": "stdout",
     "output_type": "stream",
     "text": [
      "Numbers of even numbers: 5\n",
      "Numbers of odd numbers: 5\n"
     ]
    }
   ],
   "source": [
    "numbers=(12,34,17,33,87,59,86,38,27,90)\n",
    "even_count=0\n",
    "odd_count=0\n",
    "for num in numbers:\n",
    "    if num%2==0:\n",
    "        even_count+=1\n",
    "    else:\n",
    "        odd_count+=1\n",
    "print(\"Numbers of even numbers:\",even_count)    \n",
    "print(\"Numbers of odd numbers:\",odd_count)  "
   ]
  }
 ],
 "metadata": {
  "kernelspec": {
   "display_name": "Python 3 (ipykernel)",
   "language": "python",
   "name": "python3"
  },
  "language_info": {
   "codemirror_mode": {
    "name": "ipython",
    "version": 3
   },
   "file_extension": ".py",
   "mimetype": "text/x-python",
   "name": "python",
   "nbconvert_exporter": "python",
   "pygments_lexer": "ipython3",
   "version": "3.10.9"
  }
 },
 "nbformat": 4,
 "nbformat_minor": 5
}
